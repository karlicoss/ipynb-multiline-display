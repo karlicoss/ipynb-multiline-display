{
 "cells": [
  {
   "cell_type": "code",
   "execution_count": null,
   "metadata": {
    "collapsed-summary": "IPython imports",
    "tags": [
     "collapsed"
    ]
   },
   "outputs": [],
   "source": [
    "from sympy import symbols, Derivative as D, Function as F, Eq, init_printing, latex\n",
    "from IPython.display import Markdown\n",
    "init_printing()"
   ]
  },
  {
   "cell_type": "markdown",
   "metadata": {},
   "source": [
    "If you are working with numerical computations in an IPython notebook, you don't really have much choice but accompany your computations by Latex\n",
    "formulas. However, with symbolic computations, you can massively save on repeating the same formulas which are already encoded in your\n",
    "symbolic object. Here's a quick example how it typically looks in the notebooks I've seen on the internet:\n",
    "\n",
    "---"
   ]
  },
  {
   "cell_type": "code",
   "execution_count": null,
   "metadata": {},
   "outputs": [],
   "source": [
    "x, t = symbols('x t')\n",
    "U = F('U')(x, t)\n",
    "heat_eq = Eq(D(U, t), D(U, x, 2))"
   ]
  },
  {
   "cell_type": "markdown",
   "metadata": {},
   "source": [
    "Solving heat type PDE:"
   ]
  },
  {
   "cell_type": "code",
   "execution_count": null,
   "metadata": {},
   "outputs": [],
   "source": [
    "display(heat_eq)"
   ]
  },
  {
   "cell_type": "code",
   "execution_count": null,
   "metadata": {},
   "outputs": [],
   "source": [
    "bc_left  = Eq(U.subs(x, 0), 0)\n",
    "bc_right = Eq(U.subs(x, 1), 0)"
   ]
  },
  {
   "cell_type": "markdown",
   "metadata": {},
   "source": [
    "Subject to:"
   ]
  },
  {
   "cell_type": "code",
   "execution_count": null,
   "metadata": {},
   "outputs": [],
   "source": [
    "display(bc_left)\n",
    "display(bc_right)"
   ]
  },
  {
   "cell_type": "markdown",
   "metadata": {},
   "source": [
    "---\n",
    "\n",
    "What I don't like about that style of presentation is that it's pretty scattered and reqires interleaving displayed formulas with random python cells.\n",
    "That's bad since it either pollutes your notebook and takes up vertical space, or discourages you from producing useful outputs in favor of notebook aethetics. Here are couple of examples [featured on Sympy](https://www.sympy.org/en/index.html) website:\n",
    "\n",
    "* [Quantum Programming in Python](https://digitalcommons.calpoly.edu/cgi/viewcontent.cgi?article=1072&context=physsp/), suffers from the first problem\n",
    "* [chempy](https://github.com/bjodah/chempy/blob/d5371c7/examples/ammonical_cupric_solution.ipynb) suffers from the second problem\n",
    "\n",
    "What we want is to output whole bunch of things at once.\n",
    "Sadly, `display` doesn't support even outputting two formulas on a single line without hacking CSS,\n",
    "so this is the easiest way of doing it I came up with to so far:"
   ]
  },
  {
   "cell_type": "code",
   "execution_count": null,
   "metadata": {},
   "outputs": [],
   "source": [
    "display(Markdown(\"Solving heat type PDE ${}$ subject to: ${}$ and ${}$\".format(latex(heat_eq), latex(bc_left), latex(bc_right))))"
   ]
  },
  {
   "cell_type": "markdown",
   "metadata": {},
   "source": [
    "It's quite tedious to do that every time, so I extracted it in a little helper method:\n",
    "TODO inject function code here... perhaps templating engine??"
   ]
  },
  {
   "cell_type": "code",
   "execution_count": null,
   "metadata": {},
   "outputs": [],
   "source": [
    "def ldisplay_md(fmt, *args, **kwargs):\n",
    "    display(Markdown(fmt.format(\n",
    "        *(f'${latex(x)}$' for x in args),\n",
    "        **{k: f'${latex(v)}$' for k, v in kwargs.items()})\n",
    "    ))\n"
   ]
  },
  {
   "cell_type": "markdown",
   "metadata": {},
   "source": [
    "So far so good, I just define `ldisplay = ldisplay_md` on top of my notebook and use `ldisplay` instead of display for singleline outputs.\n",
    "\n",
    "However while trying to use it with [EIN](https://github.com/millejoh/emacs-ipython-notebook) (emacs frontent for jupiter),\n",
    "I ran into an issue: EIN doesn't support Markdown outputs!\n",
    "Same thing happens if you run it in terminal: you're just gonna get `<IPython.core.display.Markdown object>`.\n",
    "Nevertheless, it is capable of outputing formulas as ASCII art, kinda like this:\n",
    "\n",
    "                    2\n",
    "    ∂              ∂\n",
    "    ──(U(x, t)) = ───(U(x, t))\n",
    "    ∂t              2\n",
    "                  ∂x\n",
    "\n",
    ", so we can achieve a similar effect by formatting manually via `str.format`.\n",
    "\n",
    "Without further ado, here's the bit of code which does that:"
   ]
  },
  {
   "cell_type": "code",
   "execution_count": null,
   "metadata": {},
   "outputs": [],
   "source": [
    "def as_text(thing):\n",
    "    from IPython.core.interactiveshell import InteractiveShell # type: ignore\n",
    "    plain_formatter = InteractiveShell.instance().display_formatter.formatters['text/plain']\n",
    "    pp = plain_formatter(thing)\n",
    "    lines = pp.splitlines()\n",
    "    return lines\n",
    "\n",
    "def vcpad(lines, height):\n",
    "    width = len(lines[0])\n",
    "    missing = height - len(lines)\n",
    "    above = missing // 2\n",
    "    below = missing - above\n",
    "    return [' ' * width for _ in range(above)] + lines + [' ' * width for _ in range(below)]\n",
    "\n",
    "# terminal and emacs can't display markdown, so we have to use that as a workaround\n",
    "def mdisplay_plain(fmt, *args, **kwargs):\n",
    "    import re\n",
    "    from itertools import chain\n",
    "    fargs   = [as_text(a) for a in args]\n",
    "    fkwargs = {k: as_text(v) for k, v in kwargs.items()}\n",
    "\n",
    "    height = max(len(x) for x in chain(fargs, fkwargs.values()))\n",
    "\n",
    "    pargs   = [vcpad(a, height) for a in fargs]\n",
    "    pkwargs = {k: vcpad(v, height) for k, v in fkwargs.items()}\n",
    "\n",
    "    textpos = height // 2\n",
    "\n",
    "    lines = []\n",
    "    for h in range(height):\n",
    "        largs   = [a[h] for a in pargs]\n",
    "        lkwargs = {k: v[h] for k, v in pkwargs.items()}\n",
    "        if h == textpos:\n",
    "            fstr = fmt\n",
    "        else:\n",
    "            # we want to keep the formatting specifiers (stuff in curly braces and empty everything else)\n",
    "            fstr = \"\"\n",
    "            for e in re.finditer(r'{.*?}', fmt):\n",
    "                fstr = fstr + \" \" * (e.start() - len(fstr))\n",
    "                fstr += e.group()\n",
    "        lines.append(fstr.format(*largs, **lkwargs))\n",
    "    for line in lines:\n",
    "        print(line.rstrip())"
   ]
  },
  {
   "cell_type": "code",
   "execution_count": null,
   "metadata": {},
   "outputs": [],
   "source": [
    "mdisplay_plain(\"Solving heat type PDE  {} subject to: {bl} and {br}\", heat_eq, bl=bc_left, br=bc_right)"
   ]
  },
  {
   "cell_type": "markdown",
   "metadata": {},
   "source": [
    "Neat? I think so!\n",
    "\n",
    "The sad thing is that figuring out the `as_text` bit took me about an hour of intense debugging, \n",
    "including setting explicit pdb breakpoints in IPython source code. I'm not sure how normal people are meant to figure that out. \n",
    "One could argue that desire to work with IPython notebooks in Emacs is not very normal either though.\n",
    "Hopefully that saves someone else a bit of time."
   ]
  }
 ],
 "metadata": {
  "celltoolbar": "Edit Metadata",
  "kernelspec": {
   "display_name": "Python 3",
   "language": "python",
   "name": "python3"
  },
  "language_info": {
   "codemirror_mode": {
    "name": "ipython",
    "version": 3
   },
   "file_extension": ".py",
   "mimetype": "text/x-python",
   "name": "python",
   "nbconvert_exporter": "python",
   "pygments_lexer": "ipython3",
   "version": "3.6.7"
  },
  "name": "ldisplay.ipynb"
 },
 "nbformat": 4,
 "nbformat_minor": 2
}
